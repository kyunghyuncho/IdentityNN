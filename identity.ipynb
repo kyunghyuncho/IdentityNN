{
 "cells": [
  {
   "cell_type": "code",
   "execution_count": 2,
   "metadata": {
    "collapsed": true
   },
   "outputs": [],
   "source": [
    "import numpy\n",
    "import theano\n",
    "from theano import tensor"
   ]
  },
  {
   "cell_type": "code",
   "execution_count": 11,
   "metadata": {
    "collapsed": true
   },
   "outputs": [],
   "source": [
    "x = tensor.vector('x', dtype='float32')\n",
    "y_t = tensor.vector('y', dtype='float32')\n",
    "w = theano.shared(numpy.random.randn(1,1).astype('float32'))\n",
    "b = theano.shared(numpy.zeros((1)).astype('float32'))\n",
    "y = tensor.dot(w, x) + b"
   ]
  },
  {
   "cell_type": "code",
   "execution_count": 12,
   "metadata": {
    "collapsed": false
   },
   "outputs": [],
   "source": [
    "y_pred = theano.function([x], y)"
   ]
  },
  {
   "cell_type": "code",
   "execution_count": 13,
   "metadata": {
    "collapsed": false
   },
   "outputs": [],
   "source": [
    "cost = ((y - y_t) ** 2).mean()\n",
    "grad = tensor.grad(cost, wrt=[w, b])"
   ]
  },
  {
   "cell_type": "code",
   "execution_count": 14,
   "metadata": {
    "collapsed": false
   },
   "outputs": [],
   "source": [
    "lr = tensor.scalar('lr', dtype='float32')\n",
    "update = theano.function([x, y_t, lr], cost, updates=[(w, w - lr * grad[0]), (b, b - lr * grad[1])])"
   ]
  },
  {
   "cell_type": "code",
   "execution_count": 15,
   "metadata": {
    "collapsed": false
   },
   "outputs": [
    {
     "name": "stdout",
     "output_type": "stream",
     "text": [
      "Best val 17.9583421588\n",
      "Best val 5.21959042549\n",
      "Best val 1.52333150618\n",
      "Best val 0.449372695833\n",
      "Best val 0.136606296152\n",
      "Best val 0.0452095874702\n",
      "Best val 0.0183327951585\n",
      "Best val 0.0102086532046\n",
      "Best val 0.00757558978189\n",
      "Best val 0.00674729819875\n",
      "Best val 0.00639092787751\n",
      "Best val 0.00623069267021\n",
      "Best val 0.00612507303013\n",
      "Best val 0.00604827402858\n",
      "Best val 0.00596718790475\n",
      "Best val 0.00589853409911\n",
      "Best val 0.00582928485237\n",
      "Best val 0.00576580103952\n",
      "Best val 0.00569509069901\n",
      "Best val 0.00563362495741\n",
      "Best val 0.00557211590931\n",
      "Best val 0.00550186786568\n",
      "Best val 0.00544108652393\n",
      "Best val 0.00537684368901\n",
      "Best val 0.00531084258109\n",
      "Best val 0.00524989594123\n",
      "Best val 0.00518841570592\n",
      "Best val 0.0051300344523\n",
      "Best val 0.00506982626393\n",
      "Best val 0.00501558185788\n",
      "Best val 0.00495593645028\n",
      "Best val 0.00490307799191\n",
      "Best val 0.00485238413094\n",
      "Best val 0.00479710207437\n",
      "Best val 0.00473951484892\n",
      "Best val 0.0046822933713\n",
      "Best val 0.00463167662965\n",
      "Best val 0.00457824935438\n",
      "Best val 0.00453346301219\n",
      "Best val 0.00447806635057\n",
      "Best val 0.00442414011341\n",
      "Best val 0.0043734660896\n",
      "Best val 0.00432368563488\n",
      "Best val 0.00427415139275\n",
      "Best val 0.00422529123025\n",
      "Best val 0.00417964231456\n",
      "Best val 0.00413092910894\n",
      "Best val 0.00408352012164\n",
      "Best val 0.00403701799223\n",
      "Best val 0.00399603828555\n",
      "Best val 0.00395165288937\n",
      "Best val 0.00390373626142\n",
      "Best val 0.00386049911031\n",
      "Best val 0.00381423930521\n",
      "Best val 0.00377724996652\n",
      "Best val 0.00373422958073\n",
      "Best val 0.0036906690395\n",
      "Best val 0.00364456714597\n",
      "Best val 0.00360069673625\n",
      "Best val 0.00356009207899\n",
      "Best val 0.00352099895827\n",
      "Best val 0.0034851840639\n",
      "Best val 0.00344764318434\n",
      "Best val 0.00340754940989\n",
      "Best val 0.00337081262842\n",
      "Best val 0.00332881851355\n",
      "Best val 0.00329369653482\n",
      "Best val 0.00325765556772\n",
      "Best val 0.00321923054871\n",
      "Best val 0.0031843908946\n",
      "Best val 0.00315073221573\n",
      "Best val 0.00311445201514\n",
      "Best val 0.00307302649599\n",
      "Best val 0.0030359078024\n",
      "Best val 0.00300274004694\n",
      "Best val 0.00297020251746\n",
      "Best val 0.00293742639478\n",
      "Best val 0.00290066033194\n",
      "Best val 0.00286978547229\n",
      "Best val 0.00283755070122\n",
      "Best val 0.00280752164545\n",
      "Best val 0.00277487415879\n",
      "Best val 0.00274289990193\n",
      "Best val 0.00271461246302\n",
      "Best val 0.00268414833699\n",
      "Best val 0.00265201081347\n",
      "Best val 0.00261963283119\n",
      "Best val 0.00258856839209\n",
      "Best val 0.00256315985171\n",
      "Best val 0.00253480943211\n",
      "Best val 0.00250293723657\n",
      "Best val 0.00247544439335\n",
      "Best val 0.00245015071705\n",
      "Best val 0.00241792200832\n",
      "Best val 0.00239267713041\n",
      "Best val 0.00236337735842\n",
      "Best val 0.00233768185717\n",
      "Best val 0.00231106535648\n",
      "Best val 0.00228615468368\n",
      "Best val 0.00225906058622\n"
     ]
    }
   ],
   "source": [
    "n_iter = 100\n",
    "max_tra = 10\n",
    "llr = numpy.float32(0.001)\n",
    "best_val = 1000.\n",
    "tra_exs = numpy.arange(max_tra)\n",
    "val_exs = tra_exs[1::2][::-1]\n",
    "tra_exs = tra_exs[::2]\n",
    "for n in xrange(n_iter):\n",
    "    tra_exs = numpy.random.permutation(tra_exs)\n",
    "    \n",
    "    cc = 0\n",
    "    for xx in tra_exs:\n",
    "        cc = cc + update([xx], [xx], llr)\n",
    "    cc = cc / len(tra_exs)\n",
    "    cc = 0\n",
    "    for xx in val_exs:\n",
    "        cc = cc + update([xx], [xx], llr)\n",
    "    cc = cc / len(val_exs)\n",
    "    if cc < best_val:\n",
    "        best_val = cc\n",
    "        print 'Best val', best_val\n",
    "    else:\n",
    "        break"
   ]
  },
  {
   "cell_type": "code",
   "execution_count": 16,
   "metadata": {
    "collapsed": false
   },
   "outputs": [
    {
     "name": "stdout",
     "output_type": "stream",
     "text": [
      "input 10 prediction [ 10.05070019]\n",
      "input 11 prediction [ 11.06526089]\n",
      "input 12 prediction [ 12.07982063]\n",
      "input 13 prediction [ 13.09438038]\n",
      "input 14 prediction [ 14.10894108]\n",
      "input 15 prediction [ 15.12350082]\n",
      "input 16 prediction [ 16.13805962]\n",
      "input 17 prediction [ 17.15262032]\n",
      "input 18 prediction [ 18.16717911]\n",
      "input 19 prediction [ 19.18173981]\n"
     ]
    }
   ],
   "source": [
    "for xx in xrange(max_tra, max_tra+10):\n",
    "    print 'input', xx, 'prediction', y_pred([xx])"
   ]
  },
  {
   "cell_type": "code",
   "execution_count": 18,
   "metadata": {
    "collapsed": false
   },
   "outputs": [
    {
     "name": "stdout",
     "output_type": "stream",
     "text": [
      "[2 0 6 8 4] [1 3 5 7 9]\n"
     ]
    }
   ],
   "source": [
    "print tra_exs, val_exs"
   ]
  },
  {
   "cell_type": "code",
   "execution_count": null,
   "metadata": {
    "collapsed": true
   },
   "outputs": [],
   "source": []
  }
 ],
 "metadata": {
  "kernelspec": {
   "display_name": "Python 2",
   "language": "python",
   "name": "python2"
  },
  "language_info": {
   "codemirror_mode": {
    "name": "ipython",
    "version": 2
   },
   "file_extension": ".py",
   "mimetype": "text/x-python",
   "name": "python",
   "nbconvert_exporter": "python",
   "pygments_lexer": "ipython2",
   "version": "2.7.11"
  }
 },
 "nbformat": 4,
 "nbformat_minor": 0
}
