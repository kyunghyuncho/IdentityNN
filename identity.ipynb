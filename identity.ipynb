{
 "cells": [
  {
   "cell_type": "code",
   "execution_count": 1,
   "metadata": {
    "collapsed": true
   },
   "outputs": [],
   "source": [
    "import numpy\n",
    "import theano\n",
    "from theano import tensor"
   ]
  },
  {
   "cell_type": "code",
   "execution_count": 30,
   "metadata": {
    "collapsed": true
   },
   "outputs": [],
   "source": [
    "x = tensor.vector('x', dtype='float32')\n",
    "y_t = tensor.vector('y', dtype='float32')\n",
    "w = theano.shared(numpy.random.randn(1,1).astype('float32'))\n",
    "b = theano.shared(numpy.zeros((1)).astype('float32'))\n",
    "y = tensor.dot(w, x) + b"
   ]
  },
  {
   "cell_type": "code",
   "execution_count": 31,
   "metadata": {
    "collapsed": false
   },
   "outputs": [],
   "source": [
    "y_pred = theano.function([x], y)"
   ]
  },
  {
   "cell_type": "code",
   "execution_count": 32,
   "metadata": {
    "collapsed": false
   },
   "outputs": [],
   "source": [
    "cost = ((y - y_t) ** 2).mean()\n",
    "grad = tensor.grad(cost, wrt=[w, b])"
   ]
  },
  {
   "cell_type": "code",
   "execution_count": 33,
   "metadata": {
    "collapsed": false
   },
   "outputs": [],
   "source": [
    "lr = tensor.scalar('lr', dtype='float32')\n",
    "update = theano.function([x, y_t, lr], cost, updates=[(w, w - lr * grad[0]), (b, b - lr * grad[1])])"
   ]
  },
  {
   "cell_type": "code",
   "execution_count": 41,
   "metadata": {
    "collapsed": false
   },
   "outputs": [
    {
     "name": "stdout",
     "output_type": "stream",
     "text": [
      "Best val 0.00216185698009\n",
      "Best val 0.000766714454949\n",
      "Best val 0.00036930174083\n"
     ]
    }
   ],
   "source": [
    "n_iter = 100\n",
    "max_tra = 10\n",
    "llr = numpy.float32(0.001)\n",
    "best_val = 1000.\n",
    "for n in xrange(n_iter):\n",
    "    tra_exs = numpy.random.permutation(max_tra)\n",
    "    cc = 0\n",
    "    for xx in tra_exs[::2]:\n",
    "        cc = cc + update([xx], [xx], llr)\n",
    "    cc = cc / len(tra_exs)\n",
    "    cc = 0\n",
    "    for xx in tra_exs[1::2]:\n",
    "        cc = cc + update([xx], [xx], llr)\n",
    "    cc = cc / len(tra_exs)\n",
    "    if cc < best_val:\n",
    "        best_val = cc\n",
    "        print 'Best val', best_val\n",
    "    else:\n",
    "        break"
   ]
  },
  {
   "cell_type": "code",
   "execution_count": 42,
   "metadata": {
    "collapsed": false
   },
   "outputs": [
    {
     "name": "stdout",
     "output_type": "stream",
     "text": [
      "input 10 prediction [ 9.94766998]\n",
      "input 11 prediction [ 10.93314838]\n",
      "input 12 prediction [ 11.91862583]\n",
      "input 13 prediction [ 12.90410423]\n",
      "input 14 prediction [ 13.88958263]\n",
      "input 15 prediction [ 14.87506008]\n",
      "input 16 prediction [ 15.86053848]\n",
      "input 17 prediction [ 16.84601784]\n",
      "input 18 prediction [ 17.83149529]\n",
      "input 19 prediction [ 18.81697464]\n"
     ]
    }
   ],
   "source": [
    "for xx in xrange(max_tra, max_tra+10):\n",
    "    print 'input', xx, 'prediction', y_pred([xx])"
   ]
  },
  {
   "cell_type": "code",
   "execution_count": null,
   "metadata": {
    "collapsed": true
   },
   "outputs": [],
   "source": []
  }
 ],
 "metadata": {
  "kernelspec": {
   "display_name": "Python 2",
   "language": "python",
   "name": "python2"
  },
  "language_info": {
   "codemirror_mode": {
    "name": "ipython",
    "version": 2
   },
   "file_extension": ".py",
   "mimetype": "text/x-python",
   "name": "python",
   "nbconvert_exporter": "python",
   "pygments_lexer": "ipython2",
   "version": "2.7.11"
  }
 },
 "nbformat": 4,
 "nbformat_minor": 0
}
