{
 "cells": [
  {
   "cell_type": "code",
   "execution_count": 2,
   "metadata": {
    "collapsed": true
   },
   "outputs": [],
   "source": [
    "import numpy\n",
    "import theano\n",
    "from theano import tensor"
   ]
  },
  {
   "cell_type": "code",
   "execution_count": 21,
   "metadata": {
    "collapsed": true
   },
   "outputs": [],
   "source": [
    "x = tensor.vector('x', dtype='float32')\n",
    "y_t = tensor.vector('y', dtype='float32')\n",
    "w = theano.shared(numpy.random.randn(1,1).astype('float32'))\n",
    "b = theano.shared(numpy.zeros((1)).astype('float32'))\n",
    "y = tensor.dot(w, x) + b"
   ]
  },
  {
   "cell_type": "code",
   "execution_count": 22,
   "metadata": {
    "collapsed": false
   },
   "outputs": [],
   "source": [
    "y_pred = theano.function([x], y)"
   ]
  },
  {
   "cell_type": "code",
   "execution_count": 23,
   "metadata": {
    "collapsed": false
   },
   "outputs": [],
   "source": [
    "cost = ((y - y_t) ** 2).mean()\n",
    "grad = tensor.grad(cost, wrt=[w, b])"
   ]
  },
  {
   "cell_type": "code",
   "execution_count": 24,
   "metadata": {
    "collapsed": false
   },
   "outputs": [],
   "source": [
    "lr = tensor.scalar('lr', dtype='float32')\n",
    "update = theano.function([x, y_t, lr], cost, updates=[(w, w - lr * grad[0]), (b, b - lr * grad[1])])"
   ]
  },
  {
   "cell_type": "code",
   "execution_count": 25,
   "metadata": {
    "collapsed": false
   },
   "outputs": [
    {
     "name": "stdout",
     "output_type": "stream",
     "text": [
      "Best val 86.5447865725\n",
      "Best val 25.2108520627\n",
      "Best val 7.39364215583\n",
      "Best val 2.20177667998\n",
      "Best val 0.676286013424\n",
      "Best val 0.227730063411\n",
      "Best val 0.0918820810504\n",
      "Best val 0.0500887499686\n",
      "Best val 0.0368055697531\n",
      "Best val 0.0319114134181\n",
      "Best val 0.029928943608\n",
      "Best val 0.0289469942683\n",
      "Best val 0.0283011226449\n",
      "Best val 0.0277341244277\n",
      "Best val 0.0273341101245\n",
      "Best val 0.0269852993195\n",
      "Best val 0.0267254475621\n",
      "Best val 0.0264114151243\n",
      "Best val 0.0261211922974\n",
      "Best val 0.0257858723402\n",
      "Best val 0.0255316201481\n",
      "Best val 0.0252659926889\n",
      "Best val 0.0250223481562\n",
      "Best val 0.0247184203588\n",
      "Best val 0.0243984866072\n",
      "Best val 0.0240680069779\n",
      "Best val 0.0237630988471\n",
      "Best val 0.0235197717673\n",
      "Best val 0.023259710893\n",
      "Best val 0.0230070979916\n",
      "Best val 0.0227017645026\n",
      "Best val 0.0224732566858\n",
      "Best val 0.0221814266755\n",
      "Best val 0.0219211738324\n",
      "Best val 0.0216766306898\n",
      "Best val 0.0214373132272\n",
      "Best val 0.0211817279691\n",
      "Best val 0.0209989629628\n",
      "Best val 0.0207717996149\n",
      "Best val 0.0204911135428\n",
      "Best val 0.0203056836501\n",
      "Best val 0.0200689228601\n",
      "Best val 0.0198477451573\n",
      "Best val 0.0196031539701\n",
      "Best val 0.0193870749616\n",
      "Best val 0.0191464674659\n",
      "Best val 0.0189529665571\n",
      "Best val 0.0187549521448\n",
      "Best val 0.018570001825\n",
      "Best val 0.0183650519757\n",
      "Best val 0.0180963395338\n",
      "Best val 0.0178657634184\n",
      "Best val 0.0176805955125\n",
      "Best val 0.017489679344\n",
      "Best val 0.0172821358137\n",
      "Best val 0.0171234141279\n",
      "Best val 0.0169340133492\n",
      "Best val 0.0167267306359\n",
      "Best val 0.016580728034\n",
      "Best val 0.0164183711167\n",
      "Best val 0.0162229440059\n",
      "Best val 0.0160428561445\n",
      "Best val 0.0158302769472\n",
      "Best val 0.0156287741615\n",
      "Best val 0.0154560286901\n",
      "Best val 0.0152859260561\n",
      "Best val 0.0151413774991\n",
      "Best val 0.0149268978043\n",
      "Best val 0.0147233263589\n",
      "Best val 0.0145382029295\n",
      "Best val 0.0143675080384\n",
      "Best val 0.0142466991674\n",
      "Best val 0.0140900890576\n",
      "Best val 0.013960571686\n",
      "Best val 0.0137857761816\n",
      "Best val 0.0136093104666\n",
      "Best val 0.0134368594736\n",
      "Best val 0.0132800295774\n",
      "Best val 0.0131425399566\n",
      "Best val 0.0129823137715\n",
      "Best val 0.0128751982469\n",
      "Best val 0.0127254163439\n",
      "Best val 0.0125604035798\n",
      "Best val 0.012457172916\n",
      "Best val 0.0123310704366\n",
      "Best val 0.012144555198\n",
      "Best val 0.0119933284092\n",
      "Best val 0.0118411506963\n",
      "Best val 0.0117037696182\n",
      "Best val 0.0115974904707\n",
      "Best val 0.0114465878432\n",
      "Best val 0.0113322728168\n",
      "Best val 0.0112385284156\n",
      "Best val 0.0110826568009\n",
      "Best val 0.010942366501\n",
      "Best val 0.0108563459362\n",
      "Best val 0.0107077689725\n",
      "Best val 0.0106071671937\n",
      "Best val 0.0104948439519\n",
      "Best val 0.010369624375\n"
     ]
    }
   ],
   "source": [
    "n_iter = 100\n",
    "max_tra = 10\n",
    "llr = numpy.float32(0.001)\n",
    "best_val = 1000.\n",
    "tra_exs = numpy.arange(max_tra)\n",
    "val_exs = tra_exs[1::2][::-1]\n",
    "tra_exs = tra_exs[::2]\n",
    "for n in xrange(n_iter):\n",
    "    tra_exs = numpy.random.permutation(tra_exs)\n",
    "    \n",
    "    cc = 0\n",
    "    for xx in tra_exs:\n",
    "        cc = cc + update([xx], [xx], llr)\n",
    "    cc = cc / len(tra_exs)\n",
    "    cc = 0\n",
    "    for xx in val_exs:\n",
    "        cc = cc + update([xx], [xx], llr)\n",
    "    cc = cc / len(val_exs)\n",
    "    if cc < best_val:\n",
    "        best_val = cc\n",
    "        print 'Best val', best_val\n",
    "    else:\n",
    "        break"
   ]
  },
  {
   "cell_type": "code",
   "execution_count": 26,
   "metadata": {
    "collapsed": false
   },
   "outputs": [
    {
     "name": "stdout",
     "output_type": "stream",
     "text": [
      "input 10 prediction [ 9.87786865]\n",
      "input 11 prediction [ 10.84547234]\n",
      "input 12 prediction [ 11.81307602]\n",
      "input 13 prediction [ 12.78067875]\n",
      "input 14 prediction [ 13.74828243]\n",
      "input 15 prediction [ 14.71588516]\n",
      "input 16 prediction [ 15.68348885]\n",
      "input 17 prediction [ 16.65109253]\n",
      "input 18 prediction [ 17.61869621]\n",
      "input 19 prediction [ 18.58629799]\n"
     ]
    }
   ],
   "source": [
    "for xx in xrange(max_tra, max_tra+10):\n",
    "    print 'input', xx, 'prediction', y_pred([xx])"
   ]
  },
  {
   "cell_type": "code",
   "execution_count": 18,
   "metadata": {
    "collapsed": false
   },
   "outputs": [
    {
     "name": "stdout",
     "output_type": "stream",
     "text": [
      "[2 0 6 8 4] [1 3 5 7 9]\n"
     ]
    }
   ],
   "source": [
    "print tra_exs, val_exs"
   ]
  },
  {
   "cell_type": "code",
   "execution_count": null,
   "metadata": {
    "collapsed": true
   },
   "outputs": [],
   "source": []
  }
 ],
 "metadata": {
  "kernelspec": {
   "display_name": "Python 2",
   "language": "python",
   "name": "python2"
  },
  "language_info": {
   "codemirror_mode": {
    "name": "ipython",
    "version": 2
   },
   "file_extension": ".py",
   "mimetype": "text/x-python",
   "name": "python",
   "nbconvert_exporter": "python",
   "pygments_lexer": "ipython2",
   "version": "2.7.11"
  }
 },
 "nbformat": 4,
 "nbformat_minor": 0
}
